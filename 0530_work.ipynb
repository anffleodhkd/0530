{
 "cells": [
  {
   "cell_type": "code",
   "execution_count": 34,
   "metadata": {},
   "outputs": [],
   "source": [
    "import numpy as np"
   ]
  },
  {
   "cell_type": "code",
   "execution_count": 35,
   "metadata": {},
   "outputs": [],
   "source": [
    "score = np.loadtxt(\"C:/DIPython/python_score.csv\", delimiter=\",\", dtype=\"float64\")"
   ]
  },
  {
   "cell_type": "code",
   "execution_count": 36,
   "metadata": {
    "scrolled": true
   },
   "outputs": [
    {
     "data": {
      "text/plain": [
       "array([[ 3.,  3.,  4.,  3.,  3.,  3.,  3.,  3.,  3.,  3.,  3.],\n",
       "       [ 4.,  4.,  4.,  4.,  4.,  3.,  4.,  4.,  2.,  2.,  4.],\n",
       "       [ 1.,  1.,  1.,  1.,  1.,  1.,  1.,  1.,  1.,  1.,  1.],\n",
       "       [ 1.,  1.,  1.,  1.,  1.,  1.,  1.,  1.,  2.,  1.,  1.],\n",
       "       [ 2.,  2.,  3.,  2.,  4.,  2.,  2.,  4.,  4.,  2.,  2.],\n",
       "       [ 2.,  4.,  2.,  4.,  2.,  2.,  2.,  2.,  4.,  2.,  2.],\n",
       "       [ 1.,  1.,  1.,  1.,  1.,  1.,  1.,  1.,  1.,  1.,  1.],\n",
       "       [ 4.,  4.,  4.,  4.,  4.,  4.,  4.,  4.,  4.,  4.,  4.],\n",
       "       [ 4.,  4.,  4.,  4.,  4.,  4.,  4.,  4.,  4.,  2.,  4.],\n",
       "       [ 2.,  2.,  2.,  2.,  2.,  2.,  2.,  2.,  2.,  2.,  2.],\n",
       "       [ 4.,  3.,  4.,  4.,  2.,  4.,  4.,  4.,  4.,  4.,  4.],\n",
       "       [ 3.,  3.,  3.,  2.,  3.,  3.,  3.,  3.,  3.,  3.,  3.],\n",
       "       [ 3.,  3.,  3.,  3.,  3.,  3.,  3.,  3.,  3.,  3.,  3.],\n",
       "       [ 3.,  2.,  3.,  3.,  3.,  3.,  1.,  3.,  3.,  3.,  3.],\n",
       "       [ 2.,  2.,  4.,  2.,  2.,  2.,  2.,  2.,  2.,  2.,  2.],\n",
       "       [ 2.,  2.,  2.,  1.,  1.,  2.,  2.,  2.,  2.,  2.,  2.],\n",
       "       [ 1.,  1.,  1.,  1.,  1.,  1.,  1.,  1.,  2.,  1.,  1.],\n",
       "       [ 2.,  2.,  2.,  2.,  2.,  2.,  2.,  2.,  4.,  2.,  2.],\n",
       "       [ 2.,  2.,  4.,  2.,  2.,  2.,  2.,  2.,  2.,  2.,  2.],\n",
       "       [ 2.,  1.,  2.,  4.,  4.,  2.,  3.,  2.,  1.,  3.,  2.],\n",
       "       [ 9.,  4., 10.,  9.,  6.,  8., 10.,  7.,  6.,  9., 10.],\n",
       "       [ 5.,  7.,  8.,  5.,  7.,  8.,  6.,  8.,  9., 10., 10.]])"
      ]
     },
     "execution_count": 36,
     "metadata": {},
     "output_type": "execute_result"
    }
   ],
   "source": [
    "score"
   ]
  },
  {
   "cell_type": "code",
   "execution_count": 37,
   "metadata": {},
   "outputs": [
    {
     "data": {
      "text/plain": [
       "array([[3., 3., 4., 3., 3., 3., 3., 3., 3., 3., 3.],\n",
       "       [4., 4., 4., 4., 4., 3., 4., 4., 2., 2., 4.],\n",
       "       [1., 1., 1., 1., 1., 1., 1., 1., 1., 1., 1.],\n",
       "       [1., 1., 1., 1., 1., 1., 1., 1., 2., 1., 1.],\n",
       "       [2., 2., 3., 2., 4., 2., 2., 4., 4., 2., 2.],\n",
       "       [2., 4., 2., 4., 2., 2., 2., 2., 4., 2., 2.],\n",
       "       [1., 1., 1., 1., 1., 1., 1., 1., 1., 1., 1.],\n",
       "       [4., 4., 4., 4., 4., 4., 4., 4., 4., 4., 4.],\n",
       "       [4., 4., 4., 4., 4., 4., 4., 4., 4., 2., 4.],\n",
       "       [2., 2., 2., 2., 2., 2., 2., 2., 2., 2., 2.],\n",
       "       [4., 3., 4., 4., 2., 4., 4., 4., 4., 4., 4.],\n",
       "       [3., 3., 3., 2., 3., 3., 3., 3., 3., 3., 3.],\n",
       "       [3., 3., 3., 3., 3., 3., 3., 3., 3., 3., 3.],\n",
       "       [3., 2., 3., 3., 3., 3., 1., 3., 3., 3., 3.],\n",
       "       [2., 2., 4., 2., 2., 2., 2., 2., 2., 2., 2.],\n",
       "       [2., 2., 2., 1., 1., 2., 2., 2., 2., 2., 2.],\n",
       "       [1., 1., 1., 1., 1., 1., 1., 1., 2., 1., 1.],\n",
       "       [2., 2., 2., 2., 2., 2., 2., 2., 4., 2., 2.],\n",
       "       [2., 2., 4., 2., 2., 2., 2., 2., 2., 2., 2.]])"
      ]
     },
     "execution_count": 37,
     "metadata": {},
     "output_type": "execute_result"
    }
   ],
   "source": [
    "score1 = score[:19]\n",
    "score1"
   ]
  },
  {
   "cell_type": "code",
   "execution_count": 38,
   "metadata": {},
   "outputs": [
    {
     "data": {
      "text/plain": [
       "array([3., 4., 1., 1., 2., 2., 1., 4., 4., 2., 4., 3., 3., 3., 2., 2., 1.,\n",
       "       2., 2.])"
      ]
     },
     "execution_count": 38,
     "metadata": {},
     "output_type": "execute_result"
    }
   ],
   "source": [
    "answer = [d[10] for d in score1]\n",
    "answer = np.array(answer)\n",
    "answer"
   ]
  },
  {
   "cell_type": "code",
   "execution_count": 39,
   "metadata": {},
   "outputs": [
    {
     "data": {
      "text/plain": [
       "array([[3., 4., 1., 1., 2., 2., 1., 4., 4., 2., 4., 3., 3., 3., 2., 2.,\n",
       "        1., 2., 2.],\n",
       "       [3., 4., 1., 1., 2., 4., 1., 4., 4., 2., 3., 3., 3., 2., 2., 2.,\n",
       "        1., 2., 2.],\n",
       "       [4., 4., 1., 1., 3., 2., 1., 4., 4., 2., 4., 3., 3., 3., 4., 2.,\n",
       "        1., 2., 4.],\n",
       "       [3., 4., 1., 1., 2., 4., 1., 4., 4., 2., 4., 2., 3., 3., 2., 1.,\n",
       "        1., 2., 2.],\n",
       "       [3., 4., 1., 1., 4., 2., 1., 4., 4., 2., 2., 3., 3., 3., 2., 1.,\n",
       "        1., 2., 2.],\n",
       "       [3., 3., 1., 1., 2., 2., 1., 4., 4., 2., 4., 3., 3., 3., 2., 2.,\n",
       "        1., 2., 2.],\n",
       "       [3., 4., 1., 1., 2., 2., 1., 4., 4., 2., 4., 3., 3., 1., 2., 2.,\n",
       "        1., 2., 2.],\n",
       "       [3., 4., 1., 1., 4., 2., 1., 4., 4., 2., 4., 3., 3., 3., 2., 2.,\n",
       "        1., 2., 2.],\n",
       "       [3., 2., 1., 2., 4., 4., 1., 4., 4., 2., 4., 3., 3., 3., 2., 2.,\n",
       "        2., 4., 2.],\n",
       "       [3., 2., 1., 1., 2., 2., 1., 4., 2., 2., 4., 3., 3., 3., 2., 2.,\n",
       "        1., 2., 2.]])"
      ]
     },
     "execution_count": 39,
     "metadata": {},
     "output_type": "execute_result"
    }
   ],
   "source": [
    "dset = score1[:, :10]\n",
    "dset = dset.T\n",
    "dset"
   ]
  },
  {
   "cell_type": "code",
   "execution_count": 40,
   "metadata": {},
   "outputs": [
    {
     "data": {
      "text/plain": [
       "array([[ True,  True,  True,  True,  True,  True,  True,  True,  True,\n",
       "         True,  True,  True,  True,  True,  True,  True,  True,  True,\n",
       "         True],\n",
       "       [ True,  True,  True,  True,  True, False,  True,  True,  True,\n",
       "         True, False,  True,  True, False,  True,  True,  True,  True,\n",
       "         True],\n",
       "       [False,  True,  True,  True, False,  True,  True,  True,  True,\n",
       "         True,  True,  True,  True,  True, False,  True,  True,  True,\n",
       "        False],\n",
       "       [ True,  True,  True,  True,  True, False,  True,  True,  True,\n",
       "         True,  True, False,  True,  True,  True, False,  True,  True,\n",
       "         True],\n",
       "       [ True,  True,  True,  True, False,  True,  True,  True,  True,\n",
       "         True, False,  True,  True,  True,  True, False,  True,  True,\n",
       "         True],\n",
       "       [ True, False,  True,  True,  True,  True,  True,  True,  True,\n",
       "         True,  True,  True,  True,  True,  True,  True,  True,  True,\n",
       "         True],\n",
       "       [ True,  True,  True,  True,  True,  True,  True,  True,  True,\n",
       "         True,  True,  True,  True, False,  True,  True,  True,  True,\n",
       "         True],\n",
       "       [ True,  True,  True,  True, False,  True,  True,  True,  True,\n",
       "         True,  True,  True,  True,  True,  True,  True,  True,  True,\n",
       "         True],\n",
       "       [ True, False,  True, False, False, False,  True,  True,  True,\n",
       "         True,  True,  True,  True,  True,  True,  True, False, False,\n",
       "         True],\n",
       "       [ True, False,  True,  True,  True,  True,  True,  True, False,\n",
       "         True,  True,  True,  True,  True,  True,  True,  True,  True,\n",
       "         True]])"
      ]
     },
     "execution_count": 40,
     "metadata": {},
     "output_type": "execute_result"
    }
   ],
   "source": [
    "bool_dset1 = (dset == answer)\n",
    "bool_dset1"
   ]
  },
  {
   "cell_type": "code",
   "execution_count": 47,
   "metadata": {
    "scrolled": false
   },
   "outputs": [
    {
     "data": {
      "text/plain": [
       "array([[1., 1., 1., 1., 1., 1., 1., 1., 1., 1., 1., 1., 1., 1., 1., 1.,\n",
       "        1., 1., 1.],\n",
       "       [1., 1., 1., 1., 1., 0., 1., 1., 1., 1., 0., 1., 1., 0., 1., 1.,\n",
       "        1., 1., 1.],\n",
       "       [0., 1., 1., 1., 0., 1., 1., 1., 1., 1., 1., 1., 1., 1., 0., 1.,\n",
       "        1., 1., 0.],\n",
       "       [1., 1., 1., 1., 1., 0., 1., 1., 1., 1., 1., 0., 1., 1., 1., 0.,\n",
       "        1., 1., 1.],\n",
       "       [1., 1., 1., 1., 0., 1., 1., 1., 1., 1., 0., 1., 1., 1., 1., 0.,\n",
       "        1., 1., 1.],\n",
       "       [1., 0., 1., 1., 1., 1., 1., 1., 1., 1., 1., 1., 1., 1., 1., 1.,\n",
       "        1., 1., 1.],\n",
       "       [1., 1., 1., 1., 1., 1., 1., 1., 1., 1., 1., 1., 1., 0., 1., 1.,\n",
       "        1., 1., 1.],\n",
       "       [1., 1., 1., 1., 0., 1., 1., 1., 1., 1., 1., 1., 1., 1., 1., 1.,\n",
       "        1., 1., 1.],\n",
       "       [1., 0., 1., 0., 0., 0., 1., 1., 1., 1., 1., 1., 1., 1., 1., 1.,\n",
       "        0., 0., 1.],\n",
       "       [1., 0., 1., 1., 1., 1., 1., 1., 0., 1., 1., 1., 1., 1., 1., 1.,\n",
       "        1., 1., 1.]])"
      ]
     },
     "execution_count": 47,
     "metadata": {},
     "output_type": "execute_result"
    }
   ],
   "source": [
    "bool_dset2 = bool_dset1.astype(float)\n",
    "bool_dset2"
   ]
  },
  {
   "cell_type": "markdown",
   "metadata": {},
   "source": [
    "## 객관식 점수 계산"
   ]
  },
  {
   "cell_type": "code",
   "execution_count": 48,
   "metadata": {},
   "outputs": [
    {
     "data": {
      "text/plain": [
       "array([4., 4., 4., 4., 4., 4., 4., 4., 4., 4., 4., 4., 4., 4., 4., 4., 4.,\n",
       "       4., 4.])"
      ]
     },
     "execution_count": 48,
     "metadata": {},
     "output_type": "execute_result"
    }
   ],
   "source": [
    "score1_array = np.ones(19)\n",
    "score1_array = score1_array * 4\n",
    "score1_array"
   ]
  },
  {
   "cell_type": "code",
   "execution_count": 51,
   "metadata": {},
   "outputs": [
    {
     "data": {
      "text/plain": [
       "array([76., 64., 60., 64., 64., 72., 72., 72., 52., 68.])"
      ]
     },
     "execution_count": 51,
     "metadata": {},
     "output_type": "execute_result"
    }
   ],
   "source": [
    "objective_score = np.dot(bool_dset2, score1_array)\n",
    "objective_score"
   ]
  },
  {
   "cell_type": "markdown",
   "metadata": {},
   "source": [
    "## 주관식 점수 계산"
   ]
  },
  {
   "cell_type": "code",
   "execution_count": 52,
   "metadata": {},
   "outputs": [
    {
     "data": {
      "text/plain": [
       "array([[ 9.,  4., 10.,  9.,  6.,  8., 10.,  7.,  6.,  9.],\n",
       "       [ 5.,  7.,  8.,  5.,  7.,  8.,  6.,  8.,  9., 10.]])"
      ]
     },
     "execution_count": 52,
     "metadata": {},
     "output_type": "execute_result"
    }
   ],
   "source": [
    "dset2 = score[20:, :10]    \n",
    "dset2"
   ]
  },
  {
   "cell_type": "code",
   "execution_count": 53,
   "metadata": {},
   "outputs": [
    {
     "data": {
      "text/plain": [
       "array([ 9.,  4., 10.,  9.,  6.,  8., 10.,  7.,  6.,  9.])"
      ]
     },
     "execution_count": 53,
     "metadata": {},
     "output_type": "execute_result"
    }
   ],
   "source": [
    "dset3 = dset2[0]\n",
    "dset3 "
   ]
  },
  {
   "cell_type": "code",
   "execution_count": 54,
   "metadata": {},
   "outputs": [
    {
     "data": {
      "text/plain": [
       "array([ 5.,  7.,  8.,  5.,  7.,  8.,  6.,  8.,  9., 10.])"
      ]
     },
     "execution_count": 54,
     "metadata": {},
     "output_type": "execute_result"
    }
   ],
   "source": [
    "dset4 = dset2[1]\n",
    "dset4"
   ]
  },
  {
   "cell_type": "code",
   "execution_count": 55,
   "metadata": {},
   "outputs": [
    {
     "data": {
      "text/plain": [
       "array([14., 11., 18., 14., 13., 16., 16., 15., 15., 19.])"
      ]
     },
     "execution_count": 55,
     "metadata": {},
     "output_type": "execute_result"
    }
   ],
   "source": [
    "subjective_score = dset3 + dset4\n",
    "subjective_score"
   ]
  },
  {
   "cell_type": "markdown",
   "metadata": {},
   "source": [
    "# 총점구하기"
   ]
  },
  {
   "cell_type": "code",
   "execution_count": 56,
   "metadata": {},
   "outputs": [
    {
     "data": {
      "text/plain": [
       "array([90., 75., 78., 78., 77., 88., 88., 87., 67., 87.])"
      ]
     },
     "execution_count": 56,
     "metadata": {},
     "output_type": "execute_result"
    }
   ],
   "source": [
    "Total_score = objective_score + subjective_score\n",
    "Total_score"
   ]
  }
 ],
 "metadata": {
  "kernelspec": {
   "display_name": "Python 3",
   "language": "python",
   "name": "python3"
  },
  "language_info": {
   "codemirror_mode": {
    "name": "ipython",
    "version": 3
   },
   "file_extension": ".py",
   "mimetype": "text/x-python",
   "name": "python",
   "nbconvert_exporter": "python",
   "pygments_lexer": "ipython3",
   "version": "3.6.4"
  }
 },
 "nbformat": 4,
 "nbformat_minor": 2
}
